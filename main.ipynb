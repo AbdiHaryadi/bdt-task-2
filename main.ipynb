{
 "cells": [
  {
   "cell_type": "markdown",
   "metadata": {},
   "source": [
    "# Notebook Tugas 2\n",
    "Penyusun: M. Abdi Haryadi. H (13519156)\n",
    "\n",
    "Berkas yang diabaikan:\n",
    "- Pengguna Instagram (format: `*.json.json`). Alasan: JSON-nya rusak."
   ]
  },
  {
   "cell_type": "code",
   "execution_count": 1,
   "metadata": {},
   "outputs": [],
   "source": [
    "import pyspark.sql.functions as psf\n",
    "import time"
   ]
  },
  {
   "cell_type": "code",
   "execution_count": 2,
   "metadata": {},
   "outputs": [],
   "source": [
    "def hadoop_to_absolute_path(hadoop_path):\n",
    "    return f\"hdfs://localhost:9000{hadoop_path}\""
   ]
  },
  {
   "cell_type": "code",
   "execution_count": 3,
   "metadata": {},
   "outputs": [],
   "source": [
    "def read_json_from_hadoop_path(hadoop_path: str):\n",
    "    absolute_path = hadoop_to_absolute_path(hadoop_path)\n",
    "    return spark.read.json(absolute_path)"
   ]
  },
  {
   "cell_type": "markdown",
   "metadata": {},
   "source": [
    "## Instagram Dataframe"
   ]
  },
  {
   "cell_type": "code",
   "execution_count": 4,
   "metadata": {
    "scrolled": true
   },
   "outputs": [
    {
     "name": "stdout",
     "output_type": "stream",
     "text": [
      "Reading Instagram contents ...\n",
      "Merging as one dataframe ...\n",
      "Transforming to ID-date format ...\n",
      "Removing duplicates ...\n",
      "Grouping by date column ...\n",
      "Counting each group ...\n",
      "Done!\n"
     ]
    }
   ],
   "source": [
    "print(\"Reading Instagram contents ...\")\n",
    "df = read_json_from_hadoop_path(\"/social_media/raw_json/instagram_*.json\")\n",
    "\n",
    "print(\"Merging as one dataframe ...\")\n",
    "coalesce_df = df.coalesce(1)\n",
    "\n",
    "print(\"Transforming to ID-date format ...\")\n",
    "id_date_df = coalesce_df.select(\n",
    "    psf.col(\"id\"),\n",
    "    psf.from_unixtime(timestamp=\"created_time\", format=\"yyyy-MM-dd\").alias(\"date\")\n",
    ")\n",
    "\n",
    "print(\"Removing duplicates ...\")\n",
    "distinct_df = id_date_df.distinct()\n",
    "\n",
    "print(\"Grouping by date column ...\")\n",
    "date_group = distinct_df.groupBy(\"date\")\n",
    "\n",
    "print(\"Counting each group ...\")\n",
    "count_df = date_group.agg(psf.count(\"id\").alias(\"count\"))\n",
    "\n",
    "print(\"Done!\")\n",
    "instagram_df = count_df"
   ]
  },
  {
   "cell_type": "markdown",
   "metadata": {},
   "source": [
    "## Facebook Dataframe"
   ]
  },
  {
   "cell_type": "code",
   "execution_count": 5,
   "metadata": {
    "scrolled": true
   },
   "outputs": [
    {
     "name": "stdout",
     "output_type": "stream",
     "text": [
      "Reading Facebook posts ...\n",
      "Merging as one dataframe ...\n",
      "Transforming to ID-date format ...\n",
      "Removing duplicates ...\n",
      "Grouping by date column ...\n",
      "Counting each group ...\n",
      "Done!\n"
     ]
    }
   ],
   "source": [
    "print(\"Reading Facebook posts ...\")\n",
    "df = read_json_from_hadoop_path(\"/social_media/raw_json/facebook_post_*.json\")\n",
    "\n",
    "print(\"Merging as one dataframe ...\")\n",
    "coalesce_df = df.coalesce(1)\n",
    "\n",
    "print(\"Transforming to ID-date format ...\")\n",
    "id_date_df = coalesce_df.select(\n",
    "    psf.col(\"id\"),\n",
    "    psf.to_date(\"created_time\").alias(\"date\")\n",
    ")\n",
    "\n",
    "print(\"Removing duplicates ...\")\n",
    "distinct_df = id_date_df.distinct()\n",
    "\n",
    "print(\"Grouping by date column ...\")\n",
    "date_group = distinct_df.groupBy(\"date\")\n",
    "\n",
    "print(\"Counting each group ...\")\n",
    "count_df = date_group.agg(psf.count(\"id\").alias(\"count\"))\n",
    "\n",
    "print(\"Done!\")\n",
    "facebook_df = count_df"
   ]
  },
  {
   "cell_type": "markdown",
   "metadata": {},
   "source": [
    "## YouTube Dataframe"
   ]
  },
  {
   "cell_type": "markdown",
   "metadata": {},
   "source": [
    "### YouTube Comment Dataframe"
   ]
  },
  {
   "cell_type": "code",
   "execution_count": 6,
   "metadata": {
    "scrolled": true
   },
   "outputs": [
    {
     "name": "stdout",
     "output_type": "stream",
     "text": [
      "Reading Youtube comments ...\n",
      "Merging as one dataframe ...\n",
      "Transforming to ID-date format ...\n",
      "Removing duplicates ...\n",
      "Grouping by date column ...\n",
      "Counting each group ...\n",
      "Done!\n"
     ]
    }
   ],
   "source": [
    "print(\"Reading Youtube comments ...\")\n",
    "df = read_json_from_hadoop_path(\"/social_media/raw_json/youtube_comment_*.json\")\n",
    "\n",
    "print(\"Merging as one dataframe ...\")\n",
    "coalesce_df = df.coalesce(1)\n",
    "\n",
    "print(\"Transforming to ID-date format ...\")\n",
    "id_date_df = coalesce_df.select(\n",
    "    \"snippet.topLevelComment.id\",\n",
    "    psf.to_date(\"snippet.topLevelComment.snippet.publishedAt\").alias(\"date\")\n",
    ")\n",
    "\n",
    "print(\"Removing duplicates ...\")\n",
    "distinct_df = id_date_df.distinct()\n",
    "\n",
    "print(\"Grouping by date column ...\")\n",
    "date_group = distinct_df.groupBy(\"date\")\n",
    "\n",
    "print(\"Counting each group ...\")\n",
    "count_df = date_group.agg(psf.count(\"id\").alias(\"count\"))\n",
    "\n",
    "print(\"Done!\")\n",
    "youtube_comment_df = count_df"
   ]
  },
  {
   "cell_type": "markdown",
   "metadata": {},
   "source": [
    "### YouTube Video Dataframe"
   ]
  },
  {
   "cell_type": "code",
   "execution_count": 7,
   "metadata": {
    "scrolled": true
   },
   "outputs": [
    {
     "name": "stdout",
     "output_type": "stream",
     "text": [
      "Reading YouTube videos ...\n",
      "Merging as one dataframe ...\n",
      "Transforming to ID-date format ...\n",
      "Removing duplicates ...\n",
      "Grouping by date column ...\n",
      "Counting each group ...\n",
      "Done!\n"
     ]
    }
   ],
   "source": [
    "print(\"Reading YouTube videos ...\")\n",
    "df = read_json_from_hadoop_path(\"/social_media/raw_json/youtube_video_*.json\")\n",
    "\n",
    "print(\"Merging as one dataframe ...\")\n",
    "coalesce_df = df.coalesce(1)\n",
    "\n",
    "print(\"Transforming to ID-date format ...\")\n",
    "id_date_df = coalesce_df.select(\n",
    "    \"id\",\n",
    "    psf.to_date(\"snippet.publishedAt\").alias(\"date\")\n",
    ")\n",
    "\n",
    "print(\"Removing duplicates ...\")\n",
    "distinct_df = id_date_df.distinct()\n",
    "\n",
    "print(\"Grouping by date column ...\")\n",
    "date_group = distinct_df.groupBy(\"date\")\n",
    "\n",
    "print(\"Counting each group ...\")\n",
    "count_df = date_group.agg(psf.count(\"id\").alias(\"count\"))\n",
    "\n",
    "print(\"Done!\")\n",
    "youtube_video_df = count_df"
   ]
  },
  {
   "cell_type": "markdown",
   "metadata": {},
   "source": [
    "### Merging"
   ]
  },
  {
   "cell_type": "code",
   "execution_count": 8,
   "metadata": {
    "scrolled": false
   },
   "outputs": [
    {
     "name": "stdout",
     "output_type": "stream",
     "text": [
      "Combining comment dataframe and video dataframe ...\n",
      "Merging as one dataframe ...\n",
      "Done!\n"
     ]
    }
   ],
   "source": [
    "print(\"Combining comment dataframe and video dataframe ...\")\n",
    "df = youtube_comment_df.union(youtube_video_df)\n",
    "\n",
    "print(\"Merging as one dataframe ...\")\n",
    "coalesce_df = df.coalesce(1)\n",
    "\n",
    "print(\"Done!\")\n",
    "youtube_df = coalesce_df"
   ]
  },
  {
   "cell_type": "markdown",
   "metadata": {},
   "source": [
    "## Twitter Dataframe"
   ]
  },
  {
   "cell_type": "code",
   "execution_count": 9,
   "metadata": {
    "scrolled": true
   },
   "outputs": [
    {
     "name": "stdout",
     "output_type": "stream",
     "text": [
      "Reading Twitter status ...\n",
      "Merging as one dataframe ...\n",
      "Transforming to ID-date format ...\n",
      "Removing duplicates ...\n",
      "Grouping by date column ...\n",
      "Counting each group ...\n",
      "Done!\n"
     ]
    }
   ],
   "source": [
    "print(\"Reading Twitter status ...\")\n",
    "df = read_json_from_hadoop_path(\"/social_media/raw_json/twitter_status_*.json\")\n",
    "\n",
    "print(\"Merging as one dataframe ...\")\n",
    "coalesce_df = df.coalesce(1)\n",
    "\n",
    "print(\"Transforming to ID-date format ...\")\n",
    "id_date_df = coalesce_df.select(\n",
    "    psf.col(\"id\"),\n",
    "    psf.to_date(psf.substring(\"created_at\", 5, 26), \"MMM dd HH:mm:ss Z yyyy\").alias(\"date\")\n",
    ")\n",
    "\n",
    "print(\"Removing duplicates ...\")\n",
    "distinct_df = id_date_df.distinct()\n",
    "\n",
    "print(\"Grouping by date column ...\")\n",
    "date_group = distinct_df.groupBy(\"date\")\n",
    "\n",
    "print(\"Counting each group ...\")\n",
    "count_df = date_group.agg(psf.count(\"id\").alias(\"count\"))\n",
    "\n",
    "print(\"Done!\")\n",
    "twitter_df = count_df"
   ]
  },
  {
   "cell_type": "markdown",
   "metadata": {},
   "source": [
    "## Merging"
   ]
  },
  {
   "cell_type": "code",
   "execution_count": 10,
   "metadata": {},
   "outputs": [
    {
     "name": "stdout",
     "output_type": "stream",
     "text": [
      "Labeling Instagram ...\n",
      "Done!\n"
     ]
    }
   ],
   "source": [
    "print(\"Labeling Instagram ...\")\n",
    "labeled_df = instagram_df.select(\n",
    "    psf.col(\"date\"),\n",
    "    psf.lit(\"instagram\").alias(\"social_media\"),\n",
    "    psf.col(\"count\")\n",
    ")\n",
    "\n",
    "print(\"Done!\")\n",
    "merged_df = labeled_df"
   ]
  },
  {
   "cell_type": "code",
   "execution_count": 11,
   "metadata": {},
   "outputs": [
    {
     "name": "stdout",
     "output_type": "stream",
     "text": [
      "Labeling Facebook ...\n",
      "Unioning with previous result ...\n",
      "Merging as one dataframe ...\n",
      "Done!\n"
     ]
    }
   ],
   "source": [
    "print(\"Labeling Facebook ...\")\n",
    "labeled_df = facebook_df.select(\n",
    "    psf.col(\"date\"),\n",
    "    psf.lit(\"facebook\").alias(\"social_media\"),\n",
    "    psf.col(\"count\")\n",
    ")\n",
    "\n",
    "print(\"Unioning with previous result ...\")\n",
    "union_df = labeled_df.union(merged_df)\n",
    "\n",
    "print(\"Merging as one dataframe ...\")\n",
    "coalesce_df = union_df.coalesce(1)\n",
    "\n",
    "print(\"Done!\")\n",
    "merged_df = coalesce_df"
   ]
  },
  {
   "cell_type": "code",
   "execution_count": 12,
   "metadata": {},
   "outputs": [
    {
     "name": "stdout",
     "output_type": "stream",
     "text": [
      "Labeling YouTube ...\n",
      "Unioning with previous result ...\n",
      "Merging as one dataframe ...\n",
      "Done!\n"
     ]
    }
   ],
   "source": [
    "print(\"Labeling YouTube ...\")\n",
    "labeled_df = youtube_df.select(\n",
    "    psf.col(\"date\"),\n",
    "    psf.lit(\"youtube\").alias(\"social_media\"),\n",
    "    psf.col(\"count\")\n",
    ")\n",
    "\n",
    "print(\"Unioning with previous result ...\")\n",
    "union_df = labeled_df.union(merged_df)\n",
    "\n",
    "print(\"Merging as one dataframe ...\")\n",
    "coalesce_df = union_df.coalesce(1)\n",
    "\n",
    "print(\"Done!\")\n",
    "merged_df = coalesce_df"
   ]
  },
  {
   "cell_type": "code",
   "execution_count": 13,
   "metadata": {},
   "outputs": [
    {
     "name": "stdout",
     "output_type": "stream",
     "text": [
      "Labeling Twitter ...\n",
      "Unioning with previous result ...\n",
      "Merging as one dataframe ...\n",
      "Done!\n"
     ]
    }
   ],
   "source": [
    "print(\"Labeling Twitter ...\")\n",
    "labeled_df = twitter_df.select(\n",
    "    psf.col(\"date\"),\n",
    "    psf.lit(\"twitter\").alias(\"social_media\"),\n",
    "    psf.col(\"count\")\n",
    ")\n",
    "\n",
    "print(\"Unioning with previous result ...\")\n",
    "union_df = labeled_df.union(merged_df)\n",
    "\n",
    "print(\"Merging as one dataframe ...\")\n",
    "coalesce_df = union_df.coalesce(1)\n",
    "\n",
    "print(\"Done!\")\n",
    "merged_df = coalesce_df"
   ]
  },
  {
   "cell_type": "code",
   "execution_count": 15,
   "metadata": {},
   "outputs": [
    {
     "name": "stdout",
     "output_type": "stream",
     "text": [
      "Writing ...\n",
      "Done!\n"
     ]
    }
   ],
   "source": [
    "print(\"Writing ...\")\n",
    "start_time = time.time()\n",
    "merged_df.write.csv(hadoop_to_absolute_path(\"/social_media/task_2_output\"))\n",
    "end_time = time.time()\n",
    "print(\"Done!\")"
   ]
  },
  {
   "cell_type": "code",
   "execution_count": 16,
   "metadata": {},
   "outputs": [
    {
     "name": "stdout",
     "output_type": "stream",
     "text": [
      "Duration: 30.029176950454712 s\n"
     ]
    }
   ],
   "source": [
    "print(\"Duration: {} s\".format(end_time - start_time))"
   ]
  },
  {
   "cell_type": "code",
   "execution_count": null,
   "metadata": {},
   "outputs": [],
   "source": []
  }
 ],
 "metadata": {
  "kernelspec": {
   "display_name": "Python 3",
   "language": "python",
   "name": "python3"
  },
  "language_info": {
   "codemirror_mode": {
    "name": "ipython",
    "version": 3
   },
   "file_extension": ".py",
   "mimetype": "text/x-python",
   "name": "python",
   "nbconvert_exporter": "python",
   "pygments_lexer": "ipython3",
   "version": "3.7.4"
  }
 },
 "nbformat": 4,
 "nbformat_minor": 2
}

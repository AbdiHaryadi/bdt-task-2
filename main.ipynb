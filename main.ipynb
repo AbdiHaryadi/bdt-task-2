{
 "cells": [
  {
   "cell_type": "markdown",
   "metadata": {},
   "source": [
    "# Task-2 Notebook\n",
    "Author: M. Abdi Haryadi. H (13519156)"
   ]
  },
  {
   "cell_type": "code",
   "execution_count": 1,
   "metadata": {},
   "outputs": [],
   "source": [
    "import json\n",
    "import pyspark.sql.functions as psf\n",
    "import time"
   ]
  },
  {
   "cell_type": "code",
   "execution_count": 2,
   "metadata": {},
   "outputs": [],
   "source": [
    "def hadoop_to_absolute_path(hadoop_path):\n",
    "    return f\"hdfs://localhost:9000{hadoop_path}\""
   ]
  },
  {
   "cell_type": "code",
   "execution_count": 3,
   "metadata": {},
   "outputs": [],
   "source": [
    "def read_json_from_hadoop_path(hadoop_path: str):\n",
    "    absolute_path = hadoop_to_absolute_path(hadoop_path)\n",
    "    return spark.read.json(absolute_path)"
   ]
  },
  {
   "cell_type": "markdown",
   "metadata": {},
   "source": [
    "## Instagram Dataframe"
   ]
  },
  {
   "cell_type": "markdown",
   "metadata": {},
   "source": [
    "### General-Data Instagram Dataframe"
   ]
  },
  {
   "cell_type": "code",
   "execution_count": 4,
   "metadata": {
    "scrolled": true
   },
   "outputs": [
    {
     "name": "stdout",
     "output_type": "stream",
     "text": [
      "Reading Instagram contents ...\n",
      "Reading done.\n"
     ]
    }
   ],
   "source": [
    "print(\"Reading Instagram general contents ...\")\n",
    "df = read_json_from_hadoop_path(\"/social_media/raw_json/instagram_*.json\")\n",
    "print(\"Reading done.\")\n",
    "\n",
    "coalesce_df = df.coalesce(1)\n",
    "id_date_df = coalesce_df.select(\n",
    "    psf.col(\"id\"),\n",
    "    psf.from_unixtime(timestamp=\"created_time\", format=\"yyyy-MM-dd\").alias(\"date\")\n",
    ")\n",
    "\n",
    "general_id_date_df = id_date_df"
   ]
  },
  {
   "cell_type": "markdown",
   "metadata": {},
   "source": [
    "### Specific-Data Instagram Dataframe\n",
    "There are five files with `.json.json` postfix. `anaktester_go.json.json` has a broken file at the start and the end, but the others only at the start. Therefore, I ignore `anaktester_go.json.json`. The missing character is an open curly-bracket (`{`)."
   ]
  },
  {
   "cell_type": "code",
   "execution_count": 5,
   "metadata": {},
   "outputs": [],
   "source": [
    "def fixed_json_flat_map(path_content_couple):\n",
    "    path, content = path_content_couple\n",
    "    new_content = \"{\" + content\n",
    "    result = []\n",
    "    try:\n",
    "        json_dict = json.loads(new_content)\n",
    "        result.append(new_content)\n",
    "    except json.JSONDecodeError:\n",
    "        pass # Just ignore it.\n",
    "    \n",
    "    return result\n",
    "\n",
    "rdd = sc.wholeTextFiles(hadoop_to_absolute_path(\"/social_media/raw_json/*.json.json\"))\n",
    "fixed_rdd = rdd.flatMap(fixed_json_flat_map)\n",
    "\n",
    "print(\"Reading Instagram specific contents ...\")\n",
    "df = spark.read.json(fixed_rdd)\n",
    "print(\"Reading done.\")\n",
    "\n",
    "coalesce_df = df.coalesce(1)\n",
    "exploded_df = coalesce_df.select(psf.explode(\"GraphImages\").alias(\"GraphImages\")).select(\"GraphImages.*\")\n",
    "\n",
    "specific_contents_id_date_df = (\n",
    "    exploded_df.select(\n",
    "        psf.col(\"id\"),\n",
    "        psf.from_unixtime(timestamp=\"taken_at_timestamp\", format=\"yyyy-MM-dd\").alias(\"date\")\n",
    "    )\n",
    ")\n",
    "\n",
    "specific_comments_id_date_df = (\n",
    "    exploded_df.select(\"comments.*\")\n",
    "        .select(psf.explode(\"data\").alias(\"data\"))\n",
    "        .select(\"data.*\")\n",
    "        .select(\n",
    "            psf.col(\"id\"),\n",
    "            psf.from_unixtime(timestamp=\"created_at\", format=\"yyyy-MM-dd\").alias(\"date\")\n",
    "        )\n",
    ")\n",
    "\n",
    "union_df = specific_contents_id_date_df.union(specific_comments_id_date_df)\n",
    "coalesce_df = union_df.coalesce(1)\n",
    "\n",
    "specific_id_date_df = coalesce_df"
   ]
  },
  {
   "cell_type": "markdown",
   "metadata": {},
   "source": [
    "### Merging"
   ]
  },
  {
   "cell_type": "code",
   "execution_count": 6,
   "metadata": {},
   "outputs": [],
   "source": [
    "df = general_id_date_df.union(specific_id_date_df)\n",
    "coalesce_df = df.coalesce(1)\n",
    "distinct_df = coalesce_df.distinct()\n",
    "date_group = distinct_df.groupBy(\"date\")\n",
    "count_df = date_group.agg(psf.count(\"id\").alias(\"count\"))\n",
    "\n",
    "instagram_df = count_df"
   ]
  },
  {
   "cell_type": "markdown",
   "metadata": {},
   "source": [
    "## Facebook Dataframe"
   ]
  },
  {
   "cell_type": "code",
   "execution_count": 7,
   "metadata": {
    "scrolled": true
   },
   "outputs": [
    {
     "name": "stdout",
     "output_type": "stream",
     "text": [
      "Reading Facebook posts ...\n",
      "Reading done.\n"
     ]
    }
   ],
   "source": [
    "print(\"Reading Facebook posts ...\")\n",
    "df = read_json_from_hadoop_path(\"/social_media/raw_json/facebook_post_*.json\")\n",
    "print(\"Reading done.\")\n",
    "\n",
    "coalesce_df = df.coalesce(1)\n",
    "id_date_df = coalesce_df.select(\n",
    "    psf.col(\"id\"),\n",
    "    psf.to_date(\"created_time\").alias(\"date\")\n",
    ")\n",
    "distinct_df = id_date_df.distinct()\n",
    "date_group = distinct_df.groupBy(\"date\")\n",
    "count_df = date_group.agg(psf.count(\"id\").alias(\"count\"))\n",
    "\n",
    "facebook_df = count_df"
   ]
  },
  {
   "cell_type": "markdown",
   "metadata": {},
   "source": [
    "## YouTube Dataframe"
   ]
  },
  {
   "cell_type": "markdown",
   "metadata": {},
   "source": [
    "### YouTube Comment Dataframe"
   ]
  },
  {
   "cell_type": "code",
   "execution_count": 8,
   "metadata": {
    "scrolled": true
   },
   "outputs": [
    {
     "name": "stdout",
     "output_type": "stream",
     "text": [
      "Reading Youtube comments ...\n",
      "Reading done.\n"
     ]
    }
   ],
   "source": [
    "print(\"Reading Youtube comments ...\")\n",
    "df = read_json_from_hadoop_path(\"/social_media/raw_json/youtube_comment_*.json\")\n",
    "print(\"Reading done.\")\n",
    "\n",
    "coalesce_df = df.coalesce(1)\n",
    "id_date_df = coalesce_df.select(\n",
    "    \"snippet.topLevelComment.id\",\n",
    "    psf.to_date(\"snippet.topLevelComment.snippet.publishedAt\").alias(\"date\")\n",
    ")\n",
    "distinct_df = id_date_df.distinct()\n",
    "date_group = distinct_df.groupBy(\"date\")\n",
    "count_df = date_group.agg(psf.count(\"id\").alias(\"count\"))\n",
    "\n",
    "youtube_comment_df = count_df"
   ]
  },
  {
   "cell_type": "markdown",
   "metadata": {},
   "source": [
    "### YouTube Video Dataframe"
   ]
  },
  {
   "cell_type": "code",
   "execution_count": 9,
   "metadata": {
    "scrolled": true
   },
   "outputs": [
    {
     "name": "stdout",
     "output_type": "stream",
     "text": [
      "Reading YouTube videos ...\n",
      "Reading done.\n"
     ]
    }
   ],
   "source": [
    "print(\"Reading YouTube videos ...\")\n",
    "df = read_json_from_hadoop_path(\"/social_media/raw_json/youtube_video_*.json\")\n",
    "print(\"Reading done.\")\n",
    "\n",
    "coalesce_df = df.coalesce(1)\n",
    "id_date_df = coalesce_df.select(\n",
    "    \"id\",\n",
    "    psf.to_date(\"snippet.publishedAt\").alias(\"date\")\n",
    ")\n",
    "distinct_df = id_date_df.distinct()\n",
    "date_group = distinct_df.groupBy(\"date\")\n",
    "count_df = date_group.agg(psf.count(\"id\").alias(\"count\"))\n",
    "\n",
    "youtube_video_df = count_df"
   ]
  },
  {
   "cell_type": "markdown",
   "metadata": {},
   "source": [
    "### Merging"
   ]
  },
  {
   "cell_type": "code",
   "execution_count": 10,
   "metadata": {
    "scrolled": false
   },
   "outputs": [],
   "source": [
    "df = youtube_comment_df.union(youtube_video_df)\n",
    "coalesce_df = df.coalesce(1)\n",
    "\n",
    "youtube_df = coalesce_df"
   ]
  },
  {
   "cell_type": "markdown",
   "metadata": {},
   "source": [
    "## Twitter Dataframe"
   ]
  },
  {
   "cell_type": "code",
   "execution_count": 11,
   "metadata": {
    "scrolled": true
   },
   "outputs": [
    {
     "name": "stdout",
     "output_type": "stream",
     "text": [
      "Reading Twitter status ...\n",
      "Reading done.\n"
     ]
    }
   ],
   "source": [
    "print(\"Reading Twitter status ...\")\n",
    "df = read_json_from_hadoop_path(\"/social_media/raw_json/twitter_status_*.json\")\n",
    "print(\"Reading done.\")\n",
    "\n",
    "coalesce_df = df.coalesce(1)\n",
    "id_date_df = coalesce_df.select(\n",
    "    psf.col(\"id\"),\n",
    "    psf.to_date(psf.substring(\"created_at\", 5, 26), \"MMM dd HH:mm:ss Z yyyy\").alias(\"date\")\n",
    ")\n",
    "distinct_df = id_date_df.distinct()\n",
    "date_group = distinct_df.groupBy(\"date\")\n",
    "count_df = date_group.agg(psf.count(\"id\").alias(\"count\"))\n",
    "\n",
    "twitter_df = count_df"
   ]
  },
  {
   "cell_type": "markdown",
   "metadata": {},
   "source": [
    "## Merging"
   ]
  },
  {
   "cell_type": "code",
   "execution_count": 12,
   "metadata": {},
   "outputs": [],
   "source": [
    "labeled_df = instagram_df.select(\n",
    "    psf.col(\"date\"),\n",
    "    psf.lit(\"instagram\").alias(\"social_media\"),\n",
    "    psf.col(\"count\")\n",
    ")\n",
    "\n",
    "merged_df = labeled_df"
   ]
  },
  {
   "cell_type": "code",
   "execution_count": 13,
   "metadata": {},
   "outputs": [],
   "source": [
    "labeled_df = facebook_df.select(\n",
    "    psf.col(\"date\"),\n",
    "    psf.lit(\"facebook\").alias(\"social_media\"),\n",
    "    psf.col(\"count\")\n",
    ")\n",
    "union_df = labeled_df.union(merged_df)\n",
    "coalesce_df = union_df.coalesce(1)\n",
    "\n",
    "merged_df = coalesce_df"
   ]
  },
  {
   "cell_type": "code",
   "execution_count": 14,
   "metadata": {},
   "outputs": [],
   "source": [
    "labeled_df = youtube_df.select(\n",
    "    psf.col(\"date\"),\n",
    "    psf.lit(\"youtube\").alias(\"social_media\"),\n",
    "    psf.col(\"count\")\n",
    ")\n",
    "union_df = labeled_df.union(merged_df)\n",
    "coalesce_df = union_df.coalesce(1)\n",
    "\n",
    "merged_df = coalesce_df"
   ]
  },
  {
   "cell_type": "code",
   "execution_count": 15,
   "metadata": {},
   "outputs": [],
   "source": [
    "labeled_df = twitter_df.select(\n",
    "    psf.col(\"date\"),\n",
    "    psf.lit(\"twitter\").alias(\"social_media\"),\n",
    "    psf.col(\"count\")\n",
    ")\n",
    "union_df = labeled_df.union(merged_df)\n",
    "coalesce_df = union_df.coalesce(1)\n",
    "\n",
    "merged_df = coalesce_df"
   ]
  },
  {
   "cell_type": "code",
   "execution_count": 16,
   "metadata": {},
   "outputs": [
    {
     "name": "stdout",
     "output_type": "stream",
     "text": [
      "Writing ...\n",
      "Done!\n",
      "Duration: 36.08039116859436 s\n"
     ]
    }
   ],
   "source": [
    "print(\"Writing ...\")\n",
    "start_time = time.time()\n",
    "merged_df.write.csv(hadoop_to_absolute_path(\"/social_media/task_2_output\"))\n",
    "end_time = time.time()\n",
    "print(\"Done!\")\n",
    "print(\"Duration: {} s\".format(end_time - start_time))"
   ]
  },
  {
   "cell_type": "code",
   "execution_count": null,
   "metadata": {},
   "outputs": [],
   "source": []
  }
 ],
 "metadata": {
  "kernelspec": {
   "display_name": "Python 3",
   "language": "python",
   "name": "python3"
  },
  "language_info": {
   "codemirror_mode": {
    "name": "ipython",
    "version": 3
   },
   "file_extension": ".py",
   "mimetype": "text/x-python",
   "name": "python",
   "nbconvert_exporter": "python",
   "pygments_lexer": "ipython3",
   "version": "3.7.4"
  }
 },
 "nbformat": 4,
 "nbformat_minor": 2
}
